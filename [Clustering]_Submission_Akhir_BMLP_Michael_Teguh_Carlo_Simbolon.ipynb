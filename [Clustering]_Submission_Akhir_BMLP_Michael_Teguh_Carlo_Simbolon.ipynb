{
  "cells": [
    {
      "cell_type": "markdown",
      "metadata": {
        "id": "kZLRMFl0JyyQ"
      },
      "source": [
        "# **1. Perkenalan Dataset**\n"
      ]
    },
    {
      "cell_type": "markdown",
      "metadata": {
        "id": "hssSDn-5n3HR"
      },
      "source": [
        "Tahap pertama, Anda harus mencari dan menggunakan dataset **tanpa label** dengan ketentuan sebagai berikut:\n",
        "\n",
        "1. **Sumber Dataset**:  \n",
        "   Dataset dapat diperoleh dari berbagai sumber, seperti public repositories (*Kaggle*, *UCI ML Repository*, *Open Data*) atau data primer yang Anda kumpulkan sendiri.\n",
        "   \n",
        "2. **Ketentuan Dataset**:\n",
        "   - **Tanpa label**: Dataset tidak boleh memiliki label atau kelas.\n",
        "   - **Jumlah Baris**: Minimal 1000 baris untuk memastikan dataset cukup besar untuk analisis yang bermakna.\n",
        "   - **Tipe Data**: Harus mengandung data **kategorikal** dan **numerikal**.\n",
        "     - *Kategorikal*: Misalnya jenis kelamin, kategori produk.\n",
        "     - *Numerikal*: Misalnya usia, pendapatan, harga.\n",
        "\n",
        "3. **Pembatasan**:  \n",
        "   Dataset yang sudah digunakan dalam latihan clustering (seperti customer segmentation) tidak boleh digunakan."
      ]
    },
    {
      "cell_type": "markdown",
      "metadata": {
        "id": "fKADPWcFKlj3"
      },
      "source": [
        "# **2. Import Library**"
      ]
    },
    {
      "cell_type": "markdown",
      "metadata": {
        "id": "LgA3ERnVn84N"
      },
      "source": [
        "Pada tahap ini, Anda perlu mengimpor beberapa pustaka (library) Python yang dibutuhkan untuk analisis data dan pembangunan model machine learning."
      ]
    },
    {
      "cell_type": "code",
      "execution_count": null,
      "metadata": {
        "id": "BlmvjLY9M4Yj"
      },
      "outputs": [
        {
          "ename": "",
          "evalue": "",
          "output_type": "error",
          "traceback": [
            "\u001b[1;31mRunning cells with 'Python 3.13.1' requires the ipykernel package.\n",
            "\u001b[1;31mRun the following command to install 'ipykernel' into the Python environment. \n",
            "\u001b[1;31mCommand: 'c:/Users/USER/AppData/Local/Programs/Python/Python313/python3.13t.exe -m pip install ipykernel -U --user --force-reinstall'"
          ]
        }
      ],
      "source": [
        "import pandas as pd\n",
        "import numpy as np\n",
        "import matplotlib.pyplot as plt\n",
        "import seaborn as sns\n",
        "from sklearn.preprocessing import StandardScaler, LabelEncoder\n",
        "from sklearn.cluster import KMeans\n",
        "from sklearn.metrics import silhouette_score"
      ]
    },
    {
      "cell_type": "markdown",
      "metadata": {
        "id": "f3YIEnAFKrKL"
      },
      "source": [
        "# **3. Memuat Dataset**"
      ]
    },
    {
      "cell_type": "markdown",
      "metadata": {
        "id": "Ey3ItwTen_7E"
      },
      "source": [
        "Pada tahap ini, Anda perlu memuat dataset ke dalam notebook. Jika dataset dalam format CSV, Anda bisa menggunakan pustaka pandas untuk membacanya. Pastikan untuk mengecek beberapa baris awal dataset untuk memahami strukturnya dan memastikan data telah dimuat dengan benar.\n",
        "\n",
        "Jika dataset berada di Google Drive, pastikan Anda menghubungkan Google Drive ke Colab terlebih dahulu. Setelah dataset berhasil dimuat, langkah berikutnya adalah memeriksa kesesuaian data dan siap untuk dianalisis lebih lanjut."
      ]
    },
    {
      "cell_type": "code",
      "execution_count": null,
      "metadata": {
        "id": "GHCGNTyrM5fS"
      },
      "outputs": [],
      "source": [
        "# Memuat dataset\n",
        "df = pd.read_csv('garisKemiskinan.csv')\n",
        "\n",
        "# Menampilkan 5 baris pertama\n",
        "print(df.head())"
      ]
    },
    {
      "cell_type": "markdown",
      "metadata": {
        "id": "bgZkbJLpK9UR"
      },
      "source": [
        "# **4. Exploratory Data Analysis (EDA)**\n",
        "\n",
        "Pada tahap ini, Anda akan melakukan **Exploratory Data Analysis (EDA)** untuk memahami karakteristik dataset. EDA bertujuan untuk:\n",
        "\n",
        "1. **Memahami Struktur Data**\n",
        "   - Tinjau jumlah baris dan kolom dalam dataset.  \n",
        "   - Tinjau jenis data di setiap kolom (numerikal atau kategorikal).\n",
        "\n",
        "2. **Menangani Data yang Hilang**  \n",
        "   - Identifikasi dan analisis data yang hilang (*missing values*). Tentukan langkah-langkah yang diperlukan untuk menangani data yang hilang, seperti pengisian atau penghapusan data tersebut.\n",
        "\n",
        "3. **Analisis Distribusi dan Korelasi**  \n",
        "   - Analisis distribusi variabel numerik dengan statistik deskriptif dan visualisasi seperti histogram atau boxplot.  \n",
        "   - Periksa hubungan antara variabel menggunakan matriks korelasi atau scatter plot.\n",
        "\n",
        "4. **Visualisasi Data**  \n",
        "   - Buat visualisasi dasar seperti grafik distribusi dan diagram batang untuk variabel kategorikal.  \n",
        "   - Gunakan heatmap atau pairplot untuk menganalisis korelasi antar variabel.\n",
        "\n",
        "Tujuan dari EDA adalah untuk memperoleh wawasan awal yang mendalam mengenai data dan menentukan langkah selanjutnya dalam analisis atau pemodelan."
      ]
    },
    {
      "cell_type": "code",
      "execution_count": null,
      "metadata": {
        "id": "dKeejtvxM6X1"
      },
      "outputs": [],
      "source": [
        "# Memeriksa informasi dataset\n",
        "print(df.info())\n",
        "\n",
        "# Memeriksa missing values\n",
        "print(df.isnull().sum())\n",
        "\n",
        "# Statistik deskriptif untuk kolom numerik\n",
        "print(df.describe())\n",
        "\n",
        "# Visualisasi distribusi garis kemiskinan (gk)\n",
        "plt.figure(figsize=(10, 6))\n",
        "sns.histplot(df['gk'], kde=True)\n",
        "plt.title('Distribusi Garis Kemiskinan')\n",
        "plt.show()\n",
        "\n",
        "# Visualisasi korelasi antar variabel numerik\n",
        "sns.pairplot(df.select_dtypes(include=['float64', 'int64']))\n",
        "plt.show()"
      ]
    },
    {
      "cell_type": "markdown",
      "metadata": {
        "id": "cpgHfgnSK3ip"
      },
      "source": [
        "# **5. Data Preprocessing**"
      ]
    },
    {
      "cell_type": "markdown",
      "metadata": {
        "id": "COf8KUPXLg5r"
      },
      "source": [
        "Pada tahap ini, data preprocessing adalah langkah penting untuk memastikan kualitas data sebelum digunakan dalam model machine learning. Data mentah sering kali mengandung nilai kosong, duplikasi, atau rentang nilai yang tidak konsisten, yang dapat memengaruhi kinerja model. Oleh karena itu, proses ini bertujuan untuk membersihkan dan mempersiapkan data agar analisis berjalan optimal.\n",
        "\n",
        "Berikut adalah tahapan-tahapan yang bisa dilakukan, tetapi **tidak terbatas** pada:\n",
        "1. Menghapus atau Menangani Data Kosong (Missing Values)\n",
        "2. Menghapus Data Duplikat\n",
        "3. Normalisasi atau Standarisasi Fitur\n",
        "4. Deteksi dan Penanganan Outlier\n",
        "5. Encoding Data Kategorikal\n",
        "6. Binning (Pengelompokan Data)\n",
        "\n",
        "Cukup sesuaikan dengan karakteristik data yang kamu gunakan yah."
      ]
    },
    {
      "cell_type": "code",
      "execution_count": null,
      "metadata": {
        "id": "WzBGjcbQM7N8"
      },
      "outputs": [],
      "source": [
        "# Menangani missing values (jika ada)\n",
        "df = df.dropna()\n",
        "\n",
        "# Encoding data kategorikal\n",
        "label_encoder = LabelEncoder()\n",
        "df['provinsi'] = label_encoder.fit_transform(df['provinsi'])\n",
        "df['jenis'] = label_encoder.fit_transform(df['jenis'])\n",
        "df['daerah'] = label_encoder.fit_transform(df['daerah'])\n",
        "df['periode'] = label_encoder.fit_transform(df['periode'])\n",
        "\n",
        "# Normalisasi data numerik\n",
        "scaler = StandardScaler()\n",
        "df[['gk']] = scaler.fit_transform(df[['gk']])\n",
        "\n",
        "# Menampilkan dataset setelah preprocessing\n",
        "print(df.head())"
      ]
    },
    {
      "cell_type": "markdown",
      "metadata": {
        "id": "BR73dCnrLEiq"
      },
      "source": [
        "# **6. Pembangunan Model Clustering**"
      ]
    },
    {
      "cell_type": "markdown",
      "metadata": {
        "id": "Fkd_QHXWMBDr"
      },
      "source": [
        "## **a. Pembangunan Model Clustering**"
      ]
    },
    {
      "cell_type": "markdown",
      "metadata": {
        "id": "Kn6Y2qbqMVLP"
      },
      "source": [
        "Pada tahap ini, Anda membangun model clustering dengan memilih algoritma yang sesuai untuk mengelompokkan data berdasarkan kesamaan. Berikut adalah **rekomendasi** tahapannya.\n",
        "1. Pilih algoritma clustering yang sesuai.\n",
        "2. Latih model dengan data menggunakan algoritma tersebut."
      ]
    },
    {
      "cell_type": "code",
      "execution_count": null,
      "metadata": {
        "id": "hgYvwWOzM93L"
      },
      "outputs": [],
      "source": [
        "# Menentukan jumlah cluster optimal dengan Elbow Method\n",
        "inertia = []\n",
        "for k in range(1, 11):\n",
        "    kmeans = KMeans(n_clusters=k, random_state=42)\n",
        "    kmeans.fit(df[['gk']])\n",
        "    inertia.append(kmeans.inertia_)\n",
        "\n",
        "# Plot Elbow Method\n",
        "plt.figure(figsize=(10, 6))\n",
        "plt.plot(range(1, 11), inertia, marker='o')\n",
        "plt.title('Elbow Method')\n",
        "plt.xlabel('Number of clusters')\n",
        "plt.ylabel('Inertia')\n",
        "plt.show()\n",
        "\n",
        "# Menentukan jumlah cluster optimal dengan Silhouette Score\n",
        "silhouette_scores = []\n",
        "for k in range(2, 11):\n",
        "    kmeans = KMeans(n_clusters=k, random_state=42)\n",
        "    kmeans.fit(df[['gk']])\n",
        "    score = silhouette_score(df[['gk']], kmeans.labels_)\n",
        "    silhouette_scores.append(score)\n",
        "\n",
        "# Plot Silhouette Score\n",
        "plt.figure(figsize=(10, 6))\n",
        "plt.plot(range(2, 11), silhouette_scores, marker='o')\n",
        "plt.title('Silhouette Score')\n",
        "plt.xlabel('Number of clusters')\n",
        "plt.ylabel('Silhouette Score')\n",
        "plt.show()\n",
        "\n",
        "# Membangun model KMeans dengan jumlah cluster optimal\n",
        "optimal_k = 3  # Misalnya, berdasarkan Elbow Method dan Silhouette Score\n",
        "kmeans = KMeans(n_clusters=optimal_k, random_state=42)\n",
        "df['Cluster'] = kmeans.fit_predict(df[['gk']])"
      ]
    },
    {
      "cell_type": "markdown",
      "metadata": {
        "id": "zsGVwzPKMEvn"
      },
      "source": [
        "## **b. Evaluasi Model Clustering**"
      ]
    },
    {
      "cell_type": "markdown",
      "metadata": {
        "id": "qk63ew39MeBf"
      },
      "source": [
        "Untuk menentukan jumlah cluster yang optimal dalam model clustering, Anda dapat menggunakan metode Elbow atau Silhouette Score.\n",
        "\n",
        "Metode ini membantu kita menemukan jumlah cluster yang memberikan pemisahan terbaik antar kelompok data, sehingga model yang dibangun dapat lebih efektif. Berikut adalah **rekomendasi** tahapannya.\n",
        "1. Gunakan Silhouette Score dan Elbow Method untuk menentukan jumlah cluster optimal.\n",
        "2. Hitung Silhouette Score sebagai ukuran kualitas cluster."
      ]
    },
    {
      "cell_type": "code",
      "execution_count": null,
      "metadata": {
        "id": "yrPkK_bvM-Ya"
      },
      "outputs": [],
      "source": []
    },
    {
      "cell_type": "markdown",
      "metadata": {
        "id": "vWZp5vKNQddd"
      },
      "source": [
        "## **c. Feature Selection (Opsional)**"
      ]
    },
    {
      "cell_type": "markdown",
      "metadata": {
        "id": "QIHKgE07Q4c0"
      },
      "source": [
        "Silakan lakukan feature selection jika Anda membutuhkan optimasi model clustering. Jika Anda menerapkan proses ini, silakan lakukan pemodelan dan evaluasi kembali menggunakan kolom-kolom hasil feature selection. Terakhir, bandingkan hasil performa model sebelum dan sesudah menerapkan feature selection."
      ]
    },
    {
      "cell_type": "code",
      "execution_count": null,
      "metadata": {
        "id": "Vbstha0PRUpI"
      },
      "outputs": [],
      "source": []
    },
    {
      "cell_type": "markdown",
      "metadata": {
        "id": "nn01TKkLLRiF"
      },
      "source": [
        "## **d. Visualisasi Hasil Clustering**"
      ]
    },
    {
      "cell_type": "markdown",
      "metadata": {
        "id": "gaz0fnhhMkRI"
      },
      "source": [
        "Setelah model clustering dilatih dan jumlah cluster optimal ditentukan, langkah selanjutnya adalah menampilkan hasil clustering melalui visualisasi.\n",
        "\n",
        "Berikut adalah **rekomendasi** tahapannya.\n",
        "1. Tampilkan hasil clustering dalam bentuk visualisasi, seperti grafik scatter plot atau 2D PCA projection."
      ]
    },
    {
      "cell_type": "code",
      "execution_count": null,
      "metadata": {
        "id": "lfOjVvfYM-4v"
      },
      "outputs": [],
      "source": [
        "# Visualisasi hasil clustering\n",
        "plt.figure(figsize=(10, 6))\n",
        "sns.scatterplot(x=df.index, y=df['gk'], hue=df['Cluster'], palette='viridis')\n",
        "plt.title('Hasil Clustering Garis Kemiskinan')\n",
        "plt.show()"
      ]
    },
    {
      "cell_type": "markdown",
      "metadata": {
        "id": "X4eydPWJLH4I"
      },
      "source": [
        "## **e. Analisis dan Interpretasi Hasil Cluster**"
      ]
    },
    {
      "cell_type": "markdown",
      "metadata": {
        "id": "mxTeTkTkA7o6"
      },
      "source": [
        "### Interpretasi Target"
      ]
    },
    {
      "cell_type": "markdown",
      "metadata": {
        "id": "NJDsBARmIsbW"
      },
      "source": [
        "**Tutorial: Melakukan Inverse Transform pada Data Target Setelah Clustering**\n",
        "\n",
        "Setelah melakukan clustering dengan model **KMeans**, kita perlu mengembalikan data yang telah diubah (normalisasi, standarisasi, atau label encoding) ke bentuk aslinya. Berikut adalah langkah-langkahnya.\n",
        "\n",
        "---\n",
        "\n",
        "**1. Tambahkan Hasil Label Cluster ke DataFrame**\n",
        "Setelah mendapatkan hasil clustering, kita tambahkan label cluster ke dalam DataFrame yang telah dinormalisasi.\n",
        "\n",
        "```python\n",
        "df_normalized['Cluster'] = model_kmeans.labels_\n",
        "```\n",
        "\n",
        "Lakukan Inverse Transform pada feature yang sudah dilakukan Labelisasi dan Standararisasi. Berikut code untuk melakukannya:\n",
        "label_encoder.inverse_transform(X_Selected[['Fitur']])\n",
        "\n",
        "Lalu masukkan ke dalam kolom dataset asli atau membuat dataframe baru\n",
        "```python\n",
        "df_normalized['Fitur'] = label_encoder.inverse_transform(df_normalized[['Fitur']])\n",
        "```\n",
        "Masukkan Data yang Sudah Di-Inverse ke dalam Dataset Asli atau Buat DataFrame Baru\n",
        "```python\n",
        "df_original['Fitur'] = df_normalized['Fitur']\n",
        "```"
      ]
    },
    {
      "cell_type": "code",
      "execution_count": null,
      "metadata": {
        "id": "ySc78cHdOiaQ"
      },
      "outputs": [],
      "source": [
        "# Analisis karakteristik cluster\n",
        "cluster_analysis = df.groupby('Cluster')['gk'].describe()\n",
        "print(cluster_analysis)\n",
        "\n",
        "# Interpretasi hasil clustering\n",
        "for cluster in range(optimal_k):\n",
        "    print(f\"Cluster {cluster}:\")\n",
        "    print(df[df['Cluster'] == cluster].describe())"
      ]
    },
    {
      "cell_type": "markdown",
      "metadata": {
        "id": "vITTtdoT_fIF"
      },
      "source": [
        "### Inverse Data Jika Melakukan Normalisasi/Standardisasi"
      ]
    },
    {
      "cell_type": "markdown",
      "metadata": {
        "id": "bUGkyAvnKRrk"
      },
      "source": [
        "Inverse Transform untuk Data yang Distandarisasi\n",
        "Jika data numerik telah dinormalisasi menggunakan StandardScaler atau MinMaxScaler, kita bisa mengembalikannya ke skala asli:\n",
        "```python\n",
        "df_normalized[['Fitur_Numerik']] = scaler.inverse_transform(df_normalized[['Fitur_Numerik']])\n",
        "```"
      ]
    },
    {
      "cell_type": "code",
      "execution_count": null,
      "metadata": {
        "id": "aIGQ_6wKGbVz"
      },
      "outputs": [],
      "source": [
        "# Type your code here"
      ]
    },
    {
      "cell_type": "markdown",
      "metadata": {
        "id": "SENfLnfRMpC-"
      },
      "source": [
        "Setelah melakukan clustering, langkah selanjutnya adalah menganalisis karakteristik dari masing-masing cluster berdasarkan fitur yang tersedia.\n",
        "\n",
        "Berikut adalah **rekomendasi** tahapannya.\n",
        "1. Analisis karakteristik tiap cluster berdasarkan fitur yang tersedia (misalnya, distribusi nilai dalam cluster).\n",
        "2. Berikan interpretasi: Apakah hasil clustering sesuai dengan ekspektasi dan logika bisnis? Apakah ada pola tertentu yang bisa dimanfaatkan?"
      ]
    },
    {
      "cell_type": "code",
      "execution_count": null,
      "metadata": {
        "id": "MFq0x-OzM_Wt"
      },
      "outputs": [],
      "source": [
        "# Type your code here"
      ]
    },
    {
      "cell_type": "markdown",
      "metadata": {
        "id": "JfgVMEBDS3KG"
      },
      "source": [
        "Tulis hasil interpretasinya di sini.\n",
        "1. Cluster 1:\n",
        "2. Cluster 2:\n",
        "3. Cluster 3:"
      ]
    },
    {
      "cell_type": "markdown",
      "metadata": {
        "id": "hOygRVqs_vdU"
      },
      "source": [
        "# Analisis Karakteristik Cluster dari Model KMeans\n",
        "\n",
        "Berikut adalah analisis karakteristik untuk setiap cluster yang dihasilkan dari model KMeans.\n",
        "\n",
        "## Cluster 1:\n",
        "- **Rata-rata Annual Income (k$):** 48,260  \n",
        "- **Rata-rata Spending Score (1-100):** 56.48  \n",
        "- **Analisis:** Cluster ini mencakup pelanggan dengan pendapatan tahunan menengah dan tingkat pengeluaran yang cukup tinggi. Pelanggan dalam cluster ini cenderung memiliki daya beli yang moderat dan mereka lebih cenderung untuk membelanjakan sebagian besar pendapatan mereka.\n",
        "\n",
        "## Cluster 2:\n",
        "- **Rata-rata Annual Income (k$):** 86,540  \n",
        "- **Rata-rata Spending Score (1-100):** 82.13  \n",
        "- **Analisis:** Cluster ini menunjukkan pelanggan dengan pendapatan tahunan tinggi dan pengeluaran yang sangat tinggi. Pelanggan di cluster ini merupakan kelompok premium dengan daya beli yang kuat dan cenderung mengeluarkan uang dalam jumlah besar untuk produk atau layanan.\n",
        "\n",
        "## Cluster 3:\n",
        "- **Rata-rata Annual Income (k$):** 87,000  \n",
        "- **Rata-rata Spending Score (1-100):** 18.63  \n",
        "- **Analisis:** Cluster ini terdiri dari pelanggan dengan pendapatan tahunan yang tinggi tetapi pengeluaran yang rendah. Mereka mungkin memiliki kapasitas finansial yang baik namun tidak terlalu aktif dalam berbelanja. Ini bisa menunjukkan bahwa mereka lebih selektif dalam pengeluaran mereka atau mungkin lebih cenderung untuk menyimpan uang."
      ]
    },
    {
      "cell_type": "markdown",
      "metadata": {
        "id": "jaYP1fx5VgWO"
      },
      "source": [
        "# **7. Mengeksport Data**\n",
        "\n",
        "Simpan hasilnya ke dalam file CSV."
      ]
    },
    {
      "cell_type": "code",
      "execution_count": null,
      "metadata": {
        "id": "fkbg_o80aRSH"
      },
      "outputs": [],
      "source": [
        "# Menyimpan hasil clustering ke file CSV\n",
        "df.to_csv('hasil_clustering.csv', index=False)"
      ]
    }
  ],
  "metadata": {
    "colab": {
      "provenance": []
    },
    "kernelspec": {
      "display_name": "Python 3",
      "name": "python3"
    },
    "language_info": {
      "name": "python",
      "version": "3.13.1"
    }
  },
  "nbformat": 4,
  "nbformat_minor": 0
}
