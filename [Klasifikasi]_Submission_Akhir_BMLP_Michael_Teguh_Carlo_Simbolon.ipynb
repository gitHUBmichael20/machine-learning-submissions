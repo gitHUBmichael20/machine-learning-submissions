{
  "cells": [
    {
      "cell_type": "markdown",
      "metadata": {
        "id": "fKADPWcFKlj3"
      },
      "source": [
        "# **1. Import Library**"
      ]
    },
    {
      "cell_type": "markdown",
      "metadata": {
        "id": "LgA3ERnVn84N"
      },
      "source": [
        "Pada tahap ini, Anda perlu mengimpor beberapa pustaka (library) Python yang dibutuhkan untuk analisis data dan pembangunan model machine learning."
      ]
    },
    {
      "cell_type": "code",
      "execution_count": 4,
      "metadata": {
        "id": "BlmvjLY9M4Yj"
      },
      "outputs": [],
      "source": [
        "import pandas as pd\n",
        "import numpy as np\n",
        "import matplotlib.pyplot as plt\n",
        "import seaborn as sns\n",
        "from sklearn.model_selection import train_test_split\n",
        "from sklearn.preprocessing import StandardScaler\n",
        "from sklearn.linear_model import LogisticRegression\n",
        "from sklearn.tree import DecisionTreeClassifier\n",
        "from sklearn.ensemble import RandomForestClassifier\n",
        "from sklearn.metrics import accuracy_score, f1_score, confusion_matrix, classification_report\n",
        "from sklearn.model_selection import GridSearchCV"
      ]
    },
    {
      "cell_type": "markdown",
      "metadata": {
        "id": "f3YIEnAFKrKL"
      },
      "source": [
        "# **2. Memuat Dataset dari Hasil Clustering**"
      ]
    },
    {
      "cell_type": "markdown",
      "metadata": {
        "id": "Ey3ItwTen_7E"
      },
      "source": [
        "Memuat dataset hasil clustering dari file CSV ke dalam variabel DataFrame."
      ]
    },
    {
      "cell_type": "code",
      "execution_count": 5,
      "metadata": {
        "id": "GHCGNTyrM5fS"
      },
      "outputs": [
        {
          "name": "stdout",
          "output_type": "stream",
          "text": [
            "\n",
            "5 Data Pertama:\n",
            "   Cluster provinsi    jenis     daerah   tahun    periode        gk\n",
            "0      0.0     ACEH  MAKANAN  PERKOTAAN  2015.0      MARET  293697.0\n",
            "1      0.0     ACEH  MAKANAN  PERKOTAAN  2015.0  SEPTEMBER  302128.0\n",
            "2      0.0     ACEH  MAKANAN  PERKOTAAN  2016.0      MARET  306243.0\n",
            "3      0.0     ACEH  MAKANAN  PERKOTAAN  2016.0  SEPTEMBER  319768.0\n",
            "4      0.0     ACEH  MAKANAN  PERDESAAN  2015.0      MARET  297479.0\n",
            "\n",
            "Informasi Dataset:\n",
            "<class 'pandas.core.frame.DataFrame'>\n",
            "RangeIndex: 5456 entries, 0 to 5455\n",
            "Data columns (total 7 columns):\n",
            " #   Column    Non-Null Count  Dtype  \n",
            "---  ------    --------------  -----  \n",
            " 0   Cluster   5261 non-null   float64\n",
            " 1   provinsi  5261 non-null   object \n",
            " 2   jenis     5261 non-null   object \n",
            " 3   daerah    5261 non-null   object \n",
            " 4   tahun     5261 non-null   float64\n",
            " 5   periode   5261 non-null   object \n",
            " 6   gk        5261 non-null   float64\n",
            "dtypes: float64(3), object(4)\n",
            "memory usage: 298.5+ KB\n",
            "None\n",
            "\n",
            "Missing Values:\n",
            "Cluster     195\n",
            "provinsi    195\n",
            "jenis       195\n",
            "daerah      195\n",
            "tahun       195\n",
            "periode     195\n",
            "gk          195\n",
            "dtype: int64\n",
            "\n",
            "Kolom Kategorikal: ['provinsi', 'jenis', 'daerah', 'periode']\n",
            "Kolom Numerik: ['tahun', 'gk']\n",
            "\n",
            "Missing Values setelah Imputasi:\n",
            "provinsi    0\n",
            "jenis       0\n",
            "daerah      0\n",
            "tahun       0\n",
            "periode     0\n",
            "gk          0\n",
            "dtype: int64\n",
            "Missing Values pada Target: 0\n",
            "\n",
            "Distribusi Cluster:\n",
            "Cluster\n",
            "1.0    2931\n",
            "0.0    2525\n",
            "Name: count, dtype: int64\n",
            "\n",
            "Dataset yang sudah dibersihkan disimpan sebagai 'hasil_clustering_cleaned.csv'\n"
          ]
        }
      ],
      "source": [
        "import pandas as pd\n",
        "import numpy as np\n",
        "from sklearn.impute import SimpleImputer\n",
        "\n",
        "# Memuat dataset hasil clustering\n",
        "df = pd.read_csv('hasil_clustering.csv')\n",
        "\n",
        "# Cek struktur data dan missing values\n",
        "print(\"\\n5 Data Pertama:\")\n",
        "print(df.head())\n",
        "print(\"\\nInformasi Dataset:\")\n",
        "print(df.info())\n",
        "print(\"\\nMissing Values:\")\n",
        "print(df.isnull().sum())\n",
        "\n",
        "# Pisahkan fitur dan target sementara untuk penanganan missing values\n",
        "X = df.drop('Cluster', axis=1)  # Fitur (semua kolom kecuali 'Cluster')\n",
        "y = df['Cluster']  # Target ('Cluster')\n",
        "\n",
        "# Identifikasi tipe data untuk menentukan strategi imputasi\n",
        "categorical_cols = X.select_dtypes(include=['object', 'category']).columns  # Kolom kategorikal\n",
        "numeric_cols = X.select_dtypes(include=['int64', 'float64']).columns       # Kolom numerik\n",
        "\n",
        "print(\"\\nKolom Kategorikal:\", list(categorical_cols))\n",
        "print(\"Kolom Numerik:\", list(numeric_cols))\n",
        "\n",
        "# Penanganan missing values pada fitur (X)\n",
        "# Imputasi berbeda untuk numerik dan kategorikal\n",
        "imputer_numeric = SimpleImputer(strategy='mean')  # Untuk kolom numerik\n",
        "imputer_categorical = SimpleImputer(strategy='most_frequent')  # Untuk kolom kategorikal\n",
        "\n",
        "if len(numeric_cols) > 0:\n",
        "    X[numeric_cols] = imputer_numeric.fit_transform(X[numeric_cols])\n",
        "if len(categorical_cols) > 0:\n",
        "    X[categorical_cols] = imputer_categorical.fit_transform(X[categorical_cols])\n",
        "\n",
        "# Konversi kembali ke DataFrame dengan kolom asli\n",
        "X = pd.DataFrame(X, columns=X.columns)\n",
        "\n",
        "# Penanganan missing values pada target (y)\n",
        "if y.isnull().sum() > 0:\n",
        "    y = y.fillna(y.mode()[0])  # Mengisi NaN pada target dengan modus\n",
        "\n",
        "# Verifikasi kembali missing values setelah imputasi\n",
        "print(\"\\nMissing Values setelah Imputasi:\")\n",
        "print(X.isnull().sum())\n",
        "print(\"Missing Values pada Target:\", y.isnull().sum())\n",
        "\n",
        "# Cek distribusi cluster setelah cleaning\n",
        "print(\"\\nDistribusi Cluster:\")\n",
        "print(y.value_counts())\n",
        "\n",
        "# Simpan dataset yang sudah dibersihkan untuk langkah berikutnya (opsional)\n",
        "df_cleaned = pd.concat([X, y], axis=1)\n",
        "df_cleaned.to_csv('hasil_clustering_cleaned.csv', index=False)\n",
        "print(\"\\nDataset yang sudah dibersihkan disimpan sebagai 'hasil_clustering_cleaned.csv'\")"
      ]
    },
    {
      "cell_type": "markdown",
      "metadata": {
        "id": "KkPem5eWL2UP"
      },
      "source": [
        "# **3. Data Splitting**"
      ]
    },
    {
      "cell_type": "markdown",
      "metadata": {
        "id": "YYj1rl_JNI9Y"
      },
      "source": [
        "Tahap Data Splitting bertujuan untuk memisahkan dataset menjadi dua bagian: data latih (training set) dan data uji (test set)."
      ]
    },
    {
      "cell_type": "code",
      "execution_count": 6,
      "metadata": {
        "id": "OubAW-7ONKVj"
      },
      "outputs": [
        {
          "name": "stdout",
          "output_type": "stream",
          "text": [
            "\n",
            "Ukuran Training Set: (4364, 45)\n",
            "Ukuran Testing Set: (1092, 45)\n"
          ]
        }
      ],
      "source": [
        "from sklearn.preprocessing import OneHotEncoder\n",
        "\n",
        "# Encoding kolom kategorikal\n",
        "encoder = OneHotEncoder(handle_unknown='ignore', sparse_output=False)\n",
        "X_encoded = encoder.fit_transform(X[categorical_cols])\n",
        "\n",
        "# Gabungkan dengan kolom numerik\n",
        "X_numeric = X[numeric_cols].reset_index(drop=True)\n",
        "X_encoded_df = pd.DataFrame(X_encoded, columns=encoder.get_feature_names_out(categorical_cols))\n",
        "X_processed = pd.concat([X_numeric, X_encoded_df], axis=1)\n",
        "\n",
        "# Split data dengan stratify\n",
        "X_train, X_test, y_train, y_test = train_test_split(\n",
        "    X_processed, y, test_size=0.2, random_state=42, stratify=y\n",
        ")\n",
        "\n",
        "# Normalisasi data\n",
        "scaler = StandardScaler()\n",
        "X_train_scaled = scaler.fit_transform(X_train)\n",
        "X_test_scaled = scaler.transform(X_test)\n",
        "\n",
        "print(\"\\nUkuran Training Set:\", X_train_scaled.shape)\n",
        "print(\"Ukuran Testing Set:\", X_test_scaled.shape)"
      ]
    },
    {
      "cell_type": "markdown",
      "metadata": {
        "id": "IVPbB03CMhTT"
      },
      "source": [
        "# **4. Membangun Model Klasifikasi**\n"
      ]
    },
    {
      "cell_type": "markdown",
      "metadata": {
        "id": "Ned1pL9zMmBK"
      },
      "source": [
        "## **a. Membangun Model Klasifikasi**"
      ]
    },
    {
      "cell_type": "markdown",
      "metadata": {
        "id": "WAWzPOE4Nkti"
      },
      "source": [
        "Setelah memilih algoritma klasifikasi yang sesuai, langkah selanjutnya adalah melatih model menggunakan data latih.\n",
        "\n",
        "Berikut adalah rekomendasi tahapannya.\n",
        "1. Pilih algoritma klasifikasi yang sesuai, seperti Logistic Regression, Decision Tree, Random Forest, atau K-Nearest Neighbors (KNN).\n",
        "2. Latih model menggunakan data latih."
      ]
    },
    {
      "cell_type": "code",
      "execution_count": 7,
      "metadata": {
        "id": "4JYxBe87NLDk"
      },
      "outputs": [
        {
          "name": "stdout",
          "output_type": "stream",
          "text": [
            "\n",
            "==============================\n",
            "Logistic Regression Evaluation:\n",
            "Training Accuracy: 0.9308\n",
            "Training F1-Score: 0.9309\n",
            "Testing Accuracy: 0.9313\n",
            "Testing F1-Score: 0.9314\n",
            "\n",
            "Classification Report (Testing Set):\n",
            "              precision    recall  f1-score   support\n",
            "\n",
            "         0.0       0.91      0.95      0.93       505\n",
            "         1.0       0.96      0.91      0.93       587\n",
            "\n",
            "    accuracy                           0.93      1092\n",
            "   macro avg       0.93      0.93      0.93      1092\n",
            "weighted avg       0.93      0.93      0.93      1092\n",
            "\n",
            "\n",
            "==============================\n",
            "Decision Tree Evaluation:\n",
            "Training Accuracy: 0.9908\n",
            "Training F1-Score: 0.9908\n",
            "Testing Accuracy: 0.9698\n",
            "Testing F1-Score: 0.9698\n",
            "\n",
            "Classification Report (Testing Set):\n",
            "              precision    recall  f1-score   support\n",
            "\n",
            "         0.0       0.96      0.97      0.97       505\n",
            "         1.0       0.98      0.97      0.97       587\n",
            "\n",
            "    accuracy                           0.97      1092\n",
            "   macro avg       0.97      0.97      0.97      1092\n",
            "weighted avg       0.97      0.97      0.97      1092\n",
            "\n"
          ]
        },
        {
          "name": "stderr",
          "output_type": "stream",
          "text": [
            "c:\\Users\\USER\\AppData\\Local\\Programs\\Python\\Python313\\Lib\\site-packages\\sklearn\\linear_model\\_logistic.py:1256: FutureWarning: 'multi_class' was deprecated in version 1.5 and will be removed in 1.7. Use OneVsRestClassifier(LogisticRegression(..)) instead. Leave it to its default value to avoid this warning.\n",
            "  warnings.warn(\n"
          ]
        },
        {
          "name": "stdout",
          "output_type": "stream",
          "text": [
            "\n",
            "==============================\n",
            "Random Forest Evaluation:\n",
            "Training Accuracy: 0.9908\n",
            "Training F1-Score: 0.9908\n",
            "Testing Accuracy: 0.9698\n",
            "Testing F1-Score: 0.9698\n",
            "\n",
            "Classification Report (Testing Set):\n",
            "              precision    recall  f1-score   support\n",
            "\n",
            "         0.0       0.95      0.98      0.97       505\n",
            "         1.0       0.98      0.96      0.97       587\n",
            "\n",
            "    accuracy                           0.97      1092\n",
            "   macro avg       0.97      0.97      0.97      1092\n",
            "weighted avg       0.97      0.97      0.97      1092\n",
            "\n"
          ]
        }
      ],
      "source": [
        "def evaluate_model(model, X_train, X_test, y_train, y_test, model_name):\n",
        "    # Evaluasi pada training set\n",
        "    y_train_pred = model.predict(X_train)\n",
        "    train_acc = accuracy_score(y_train, y_train_pred)\n",
        "    train_f1 = f1_score(y_train, y_train_pred, average='weighted', zero_division=0)\n",
        "    \n",
        "    # Evaluasi pada testing set\n",
        "    y_test_pred = model.predict(X_test)\n",
        "    test_acc = accuracy_score(y_test, y_test_pred)\n",
        "    test_f1 = f1_score(y_test, y_test_pred, average='weighted', zero_division=0)\n",
        "    \n",
        "    print(f\"\\n{'='*30}\")\n",
        "    print(f\"{model_name} Evaluation:\")\n",
        "    print(f\"Training Accuracy: {train_acc:.4f}\")\n",
        "    print(f\"Training F1-Score: {train_f1:.4f}\")\n",
        "    print(f\"Testing Accuracy: {test_acc:.4f}\")\n",
        "    print(f\"Testing F1-Score: {test_f1:.4f}\")\n",
        "    print(\"\\nClassification Report (Testing Set):\")\n",
        "    print(classification_report(y_test, y_test_pred, zero_division=0))\n",
        "    \n",
        "    # Return prediksi untuk visualisasi\n",
        "    return y_test_pred\n",
        "\n",
        "# Inisialisasi model\n",
        "models = {\n",
        "    \"Logistic Regression\": LogisticRegression(multi_class='ovr', max_iter=1000),\n",
        "    \"Decision Tree\": DecisionTreeClassifier(random_state=42),\n",
        "    \"Random Forest\": RandomForestClassifier(n_estimators=100, random_state=42)\n",
        "}\n",
        "\n",
        "# Latih dan evaluasi setiap model\n",
        "for name, model in models.items():\n",
        "    model.fit(X_train_scaled, y_train)\n",
        "    y_pred = evaluate_model(model, X_train_scaled, X_test_scaled, y_train, y_test, name)"
      ]
    },
    {
      "cell_type": "markdown",
      "metadata": {
        "id": "seYoHNY3XU1y"
      },
      "source": [
        "Tulis narasi atau penjelasan algoritma yang Anda gunakan."
      ]
    },
    {
      "cell_type": "markdown",
      "metadata": {
        "id": "ergzChZFEL-O"
      },
      "source": [
        "## **b. Evaluasi Model Klasifikasi**"
      ]
    },
    {
      "cell_type": "markdown",
      "metadata": {
        "id": "zOm68u-7NpLT"
      },
      "source": [
        "Berikut adalah **rekomendasi** tahapannya.\n",
        "1. Lakukan prediksi menggunakan data uji.\n",
        "2. Hitung metrik evaluasi seperti Accuracy dan F1-Score (Opsional: Precision dan Recall).\n",
        "3. Buat confusion matrix untuk melihat detail prediksi benar dan salah."
      ]
    },
    {
      "cell_type": "code",
      "execution_count": 8,
      "metadata": {
        "id": "tMq4QAssNLip"
      },
      "outputs": [
        {
          "data": {
            "image/png": "[encoded data removed]",
            "text/plain": [
              "<Figure size 800x600 with 2 Axes>"
            ]
          },
          "metadata": {},
          "output_type": "display_data"
        },
        {
          "data": {
            "image/png": "[encoded data removed]",
            "text/plain": [
              "<Figure size 800x600 with 2 Axes>"
            ]
          },
          "metadata": {},
          "output_type": "display_data"
        },
        {
          "data": {
            "image/png": "[encoded data removed]",
            "text/plain": [
              "<Figure size 800x600 with 2 Axes>"
            ]
          },
          "metadata": {},
          "output_type": "display_data"
        }
      ],
      "source": [
        "def plot_confusion_matrix(y_true, y_pred, title):\n",
        "    plt.figure(figsize=(8, 6))\n",
        "    cm = confusion_matrix(y_true, y_pred)\n",
        "    sns.heatmap(cm, annot=True, fmt='d', cmap='Blues', \n",
        "                xticklabels=np.unique(y_true),\n",
        "                yticklabels=np.unique(y_true))\n",
        "    plt.title(title)\n",
        "    plt.xlabel('Predicted')\n",
        "    plt.ylabel('Actual')\n",
        "    plt.show()\n",
        "\n",
        "# Plot confusion matrix untuk setiap model\n",
        "for name, model in models.items():\n",
        "    y_pred = model.predict(X_test_scaled)\n",
        "    plot_confusion_matrix(y_test, y_pred, f'Confusion Matrix - {name}')"
      ]
    },
    {
      "cell_type": "markdown",
      "metadata": {
        "id": "H4_9OwrsXZlz"
      },
      "source": [
        "Tulis hasil evaluasi algoritma yang digunakan, jika Anda menggunakan 2 algoritma, maka bandingkan hasilnya."
      ]
    },
    {
      "cell_type": "markdown",
      "metadata": {
        "id": "ph9yIYDXEPuB"
      },
      "source": [
        "## **c. Tuning Model Klasifikasi (Optional)**"
      ]
    },
    {
      "cell_type": "markdown",
      "metadata": {
        "id": "-Bikx3LINv5e"
      },
      "source": [
        "Gunakan GridSearchCV, RandomizedSearchCV, atau metode lainnya untuk mencari kombinasi hyperparameter terbaik"
      ]
    },
    {
      "cell_type": "code",
      "execution_count": 9,
      "metadata": {
        "id": "winbFzb8NL95"
      },
      "outputs": [],
      "source": [
        "param_grid = {\n",
        "    'n_estimators': [100, 200],\n",
        "    'max_depth': [None, 10],\n",
        "    'min_samples_split': [2, 5]\n",
        "}\n",
        "\n",
        "grid_search = GridSearchCV(RandomForestClassifier(random_state=42), param_grid, cv=5, scoring='f1')\n",
        "grid_search.fit(X_train_scaled, y_train)\n",
        "best_model = grid_search.best_estimator_"
      ]
    },
    {
      "cell_type": "markdown",
      "metadata": {
        "id": "hE7pqlEPEYzI"
      },
      "source": [
        "## **d. Evaluasi Model Klasifikasi setelah Tuning (Optional)**"
      ]
    },
    {
      "cell_type": "markdown",
      "metadata": {
        "id": "feaPESoeN0zz"
      },
      "source": [
        "Berikut adalah rekomendasi tahapannya.\n",
        "1. Gunakan model dengan hyperparameter terbaik.\n",
        "2. Hitung ulang metrik evaluasi untuk melihat apakah ada peningkatan performa."
      ]
    },
    {
      "cell_type": "code",
      "execution_count": 10,
      "metadata": {
        "id": "HTXZRvEeNMb1"
      },
      "outputs": [
        {
          "name": "stdout",
          "output_type": "stream",
          "text": [
            "\n",
            "==============================\n",
            "Tuned Decision Tree Evaluation:\n",
            "Training Accuracy: 0.9908\n",
            "Training F1-Score: 0.9908\n",
            "Testing Accuracy: 0.9725\n",
            "Testing F1-Score: 0.9726\n",
            "\n",
            "Classification Report (Testing Set):\n",
            "              precision    recall  f1-score   support\n",
            "\n",
            "         0.0       0.96      0.99      0.97       505\n",
            "         1.0       0.99      0.96      0.97       587\n",
            "\n",
            "    accuracy                           0.97      1092\n",
            "   macro avg       0.97      0.97      0.97      1092\n",
            "weighted avg       0.97      0.97      0.97      1092\n",
            "\n"
          ]
        },
        {
          "data": {
            "image/png": "[encoded data removed]",
            "text/plain": [
              "<Figure size 800x600 with 2 Axes>"
            ]
          },
          "metadata": {},
          "output_type": "display_data"
        }
      ],
      "source": [
        "# Evaluasi model terbaik\n",
        "y_pred_tuned = evaluate_model(best_model, X_train_scaled, X_test_scaled, y_train, y_test, \"Tuned Decision Tree\")\n",
        "\n",
        "# Visualisasi confusion matrix untuk model yang sudah di-tuning\n",
        "plot_confusion_matrix(y_test, y_pred_tuned, 'Confusion Matrix - Tuned Decision Tree')"
      ]
    },
    {
      "cell_type": "markdown",
      "metadata": {
        "id": "ZRsOdm4uEgAW"
      },
      "source": [
        "## **e. Analisis Hasil Evaluasi Model Klasifikasi**"
      ]
    },
    {
      "cell_type": "markdown",
      "metadata": {
        "id": "Hm3BhSi6N4_l"
      },
      "source": [
        "**Perbandingan Performa:**\n",
        "\n",
        "1. **Logistic Regression**: Logistic Regression cocok untuk data linear tetapi mungkin kurang akurat jika hubungan antar fitur kompleks.\n",
        "2. **Decision Tree** Decision Tree menunjukkan performa lebih baik karena mampu menangkap hubungan non-linear.\n",
        "3. **Decision Tree dengan Tuning** meningkatkan akurasi dengan mengoptimalkan parameter seperti kedalaman pohon.\n",
        "\n",
        "**Potensi Masalah:**\n",
        "\n",
        "1. Class imbalance terlihat dari distribusi cluster\n",
        "2. Overfitting pada Decision Tree asli (akurasi training jauh lebih tinggi dari test)\n",
        "\n",
        "Rekomendasi:\n",
        "\n",
        "1. Lakukan handling class imbalance dengan SMOTE atau class weights\n",
        "2. Coba algoritma ensemble seperti Random Forest\n",
        "3. Kumpulkan lebih banyak data untuk cluster minoritas"
      ]
    }
  ],
  "metadata": {
    "colab": {
      "provenance": []
    },
    "kernelspec": {
      "display_name": "Python 3",
      "name": "python3"
    },
    "language_info": {
      "codemirror_mode": {
        "name": "ipython",
        "version": 3
      },
      "file_extension": ".py",
      "mimetype": "text/x-python",
      "name": "python",
      "nbconvert_exporter": "python",
      "pygments_lexer": "ipython3",
      "version": "3.13.1"
    }
  },
  "nbformat": 4,
  "nbformat_minor": 0
}
