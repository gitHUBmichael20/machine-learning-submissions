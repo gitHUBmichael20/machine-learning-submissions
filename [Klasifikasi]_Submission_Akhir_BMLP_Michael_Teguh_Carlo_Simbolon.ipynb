{
  "cells": [
    {
      "cell_type": "markdown",
      "metadata": {
        "id": "fKADPWcFKlj3"
      },
      "source": [
        "# **1. Import Library**"
      ]
    },
    {
      "cell_type": "markdown",
      "metadata": {
        "id": "LgA3ERnVn84N"
      },
      "source": [
        "Pada tahap ini, Anda perlu mengimpor beberapa pustaka (library) Python yang dibutuhkan untuk analisis data dan pembangunan model machine learning."
      ]
    },
    {
      "cell_type": "code",
      "execution_count": 18,
      "metadata": {
        "id": "BlmvjLY9M4Yj"
      },
      "outputs": [],
      "source": [
        "import pandas as pd\n",
        "import numpy as np\n",
        "import matplotlib.pyplot as plt\n",
        "import seaborn as sns\n",
        "from sklearn.model_selection import train_test_split\n",
        "from sklearn.preprocessing import StandardScaler\n",
        "from sklearn.linear_model import LogisticRegression\n",
        "from sklearn.tree import DecisionTreeClassifier\n",
        "from sklearn.ensemble import RandomForestClassifier\n",
        "from sklearn.metrics import accuracy_score, f1_score, confusion_matrix, classification_report\n",
        "from sklearn.model_selection import GridSearchCV"
      ]
    },
    {
      "cell_type": "markdown",
      "metadata": {
        "id": "f3YIEnAFKrKL"
      },
      "source": [
        "# **2. Memuat Dataset dari Hasil Clustering**"
      ]
    },
    {
      "cell_type": "markdown",
      "metadata": {
        "id": "Ey3ItwTen_7E"
      },
      "source": [
        "Memuat dataset hasil clustering dari file CSV ke dalam variabel DataFrame."
      ]
    },
    {
      "cell_type": "code",
      "execution_count": 19,
      "metadata": {
        "id": "GHCGNTyrM5fS"
      },
      "outputs": [
        {
          "name": "stdout",
          "output_type": "stream",
          "text": [
            "\n",
            "5 Data Pertama:\n",
            "   provinsi  jenis  daerah  tahun  periode        gk  Cluster\n",
            "0         0      0       2   2015        0 -0.064537        0\n",
            "1         0      0       2   2015        1 -0.011230        0\n",
            "2         0      0       2   2016        0  0.014788        0\n",
            "3         0      0       2   2016        1  0.100302        0\n",
            "4         0      0       0   2015        0 -0.040624        0\n",
            "\n",
            "Distribusi Cluster:\n",
            "Cluster\n",
            "0    2436\n",
            "1    1749\n",
            "2    1076\n",
            "Name: count, dtype: int64\n"
          ]
        }
      ],
      "source": [
        "df = pd.read_csv('hasil_clustering.csv')  # Lokasi File dataset\n",
        "\n",
        "# Cek struktur data\n",
        "print(\"\\n5 Data Pertama:\")\n",
        "print(df.head())\n",
        "print(\"\\nDistribusi Cluster:\")\n",
        "print(df['Cluster'].value_counts()) "
      ]
    },
    {
      "cell_type": "markdown",
      "metadata": {
        "id": "KkPem5eWL2UP"
      },
      "source": [
        "# **3. Data Splitting**"
      ]
    },
    {
      "cell_type": "markdown",
      "metadata": {
        "id": "YYj1rl_JNI9Y"
      },
      "source": [
        "Tahap Data Splitting bertujuan untuk memisahkan dataset menjadi dua bagian: data latih (training set) dan data uji (test set)."
      ]
    },
    {
      "cell_type": "code",
      "execution_count": 20,
      "metadata": {
        "id": "OubAW-7ONKVj"
      },
      "outputs": [],
      "source": [
        "# Pisahkan fitur dan target\n",
        "X = df.drop('Cluster', axis=1) \n",
        "y = df['Cluster']\n",
        "\n",
        "# Split data menjadi train (80%) dan test (20%)\n",
        "X_train, X_test, y_train, y_test = train_test_split(\n",
        "    X, y, test_size=0.2, random_state=42, stratify=y\n",
        ")\n",
        "\n",
        "# Normalisasi data\n",
        "scaler = StandardScaler()\n",
        "X_train = scaler.fit_transform(X_train)\n",
        "X_test = scaler.transform(X_test)\n"
      ]
    },
    {
      "cell_type": "markdown",
      "metadata": {
        "id": "IVPbB03CMhTT"
      },
      "source": [
        "# **4. Membangun Model Klasifikasi**\n"
      ]
    },
    {
      "cell_type": "markdown",
      "metadata": {
        "id": "Ned1pL9zMmBK"
      },
      "source": [
        "## **a. Membangun Model Klasifikasi**"
      ]
    },
    {
      "cell_type": "markdown",
      "metadata": {
        "id": "WAWzPOE4Nkti"
      },
      "source": [
        "Setelah memilih algoritma klasifikasi yang sesuai, langkah selanjutnya adalah melatih model menggunakan data latih.\n",
        "\n",
        "Berikut adalah rekomendasi tahapannya.\n",
        "1. Pilih algoritma klasifikasi yang sesuai, seperti Logistic Regression, Decision Tree, Random Forest, atau K-Nearest Neighbors (KNN).\n",
        "2. Latih model menggunakan data latih."
      ]
    },
    {
      "cell_type": "code",
      "execution_count": 21,
      "metadata": {
        "id": "4JYxBe87NLDk"
      },
      "outputs": [
        {
          "name": "stdout",
          "output_type": "stream",
          "text": [
            "Logistic Regression:\n",
            "Accuracy: 0.9591642924976258\n",
            "F1-Score: 0.9593182502944411\n",
            "              precision    recall  f1-score   support\n",
            "\n",
            "           0       0.95      0.97      0.96       488\n",
            "           1       1.00      0.97      0.98       350\n",
            "           2       0.93      0.93      0.93       215\n",
            "\n",
            "    accuracy                           0.96      1053\n",
            "   macro avg       0.96      0.96      0.96      1053\n",
            "weighted avg       0.96      0.96      0.96      1053\n",
            "\n",
            "\n",
            "Decision Tree:\n",
            "Accuracy: 1.0\n",
            "F1-Score: 1.0\n",
            "              precision    recall  f1-score   support\n",
            "\n",
            "           0       1.00      1.00      1.00       488\n",
            "           1       1.00      1.00      1.00       350\n",
            "           2       1.00      1.00      1.00       215\n",
            "\n",
            "    accuracy                           1.00      1053\n",
            "   macro avg       1.00      1.00      1.00      1053\n",
            "weighted avg       1.00      1.00      1.00      1053\n",
            "\n"
          ]
        },
        {
          "name": "stderr",
          "output_type": "stream",
          "text": [
            "c:\\Users\\USER\\AppData\\Local\\Programs\\Python\\Python313\\Lib\\site-packages\\sklearn\\linear_model\\_logistic.py:1256: FutureWarning: 'multi_class' was deprecated in version 1.5 and will be removed in 1.7. Use OneVsRestClassifier(LogisticRegression(..)) instead. Leave it to its default value to avoid this warning.\n",
            "  warnings.warn(\n"
          ]
        }
      ],
      "source": [
        "# Inisialisasi model\n",
        "logreg = LogisticRegression(multi_class='ovr', max_iter=1000)\n",
        "\n",
        "# Latih model\n",
        "logreg.fit(X_train, y_train)\n",
        "\n",
        "# Prediksi\n",
        "y_pred_logreg = logreg.predict(X_test)\n",
        "\n",
        "# Evaluasi\n",
        "print(\"Logistic Regression:\")\n",
        "print(\"Accuracy:\", accuracy_score(y_test, y_pred_logreg))\n",
        "print(\"F1-Score:\", f1_score(y_test, y_pred_logreg, average='weighted'))\n",
        "print(classification_report(y_test, y_pred_logreg))\n",
        "\n",
        "# Inisialisasi model\n",
        "dtree = DecisionTreeClassifier(random_state=42)\n",
        "\n",
        "# Latih model\n",
        "dtree.fit(X_train, y_train)\n",
        "\n",
        "# Prediksi\n",
        "y_pred_dtree = dtree.predict(X_test)\n",
        "\n",
        "# Evaluasi\n",
        "print(\"\\nDecision Tree:\")\n",
        "print(\"Accuracy:\", accuracy_score(y_test, y_pred_dtree))\n",
        "print(\"F1-Score:\", f1_score(y_test, y_pred_dtree, average='weighted'))\n",
        "print(classification_report(y_test, y_pred_dtree))"
      ]
    },
    {
      "cell_type": "markdown",
      "metadata": {
        "id": "seYoHNY3XU1y"
      },
      "source": [
        "Tulis narasi atau penjelasan algoritma yang Anda gunakan."
      ]
    },
    {
      "cell_type": "markdown",
      "metadata": {
        "id": "ergzChZFEL-O"
      },
      "source": [
        "## **b. Evaluasi Model Klasifikasi**"
      ]
    },
    {
      "cell_type": "markdown",
      "metadata": {
        "id": "zOm68u-7NpLT"
      },
      "source": [
        "Berikut adalah **rekomendasi** tahapannya.\n",
        "1. Lakukan prediksi menggunakan data uji.\n",
        "2. Hitung metrik evaluasi seperti Accuracy dan F1-Score (Opsional: Precision dan Recall).\n",
        "3. Buat confusion matrix untuk melihat detail prediksi benar dan salah."
      ]
    },
    {
      "cell_type": "code",
      "execution_count": 22,
      "metadata": {
        "id": "tMq4QAssNLip"
      },
      "outputs": [
        {
          "data": {
            "image/png": "[encoded data removed]",
            "text/plain": [
              "<Figure size 800x600 with 2 Axes>"
            ]
          },
          "metadata": {},
          "output_type": "display_data"
        }
      ],
      "source": [
        "# Confusion Matrix untuk Decision Tree\n",
        "plt.figure(figsize=(8,6))\n",
        "sns.heatmap(confusion_matrix(y_test, y_pred_dtree), annot=True, fmt='d')\n",
        "plt.title('Confusion Matrix - Decision Tree')\n",
        "plt.show()"
      ]
    },
    {
      "cell_type": "markdown",
      "metadata": {
        "id": "H4_9OwrsXZlz"
      },
      "source": [
        "Tulis hasil evaluasi algoritma yang digunakan, jika Anda menggunakan 2 algoritma, maka bandingkan hasilnya."
      ]
    },
    {
      "cell_type": "markdown",
      "metadata": {
        "id": "ph9yIYDXEPuB"
      },
      "source": [
        "## **c. Tuning Model Klasifikasi (Optional)**"
      ]
    },
    {
      "cell_type": "markdown",
      "metadata": {
        "id": "-Bikx3LINv5e"
      },
      "source": [
        "Gunakan GridSearchCV, RandomizedSearchCV, atau metode lainnya untuk mencari kombinasi hyperparameter terbaik"
      ]
    },
    {
      "cell_type": "code",
      "execution_count": 23,
      "metadata": {
        "id": "winbFzb8NL95"
      },
      "outputs": [
        {
          "name": "stdout",
          "output_type": "stream",
          "text": [
            "\n",
            "Tuned Decision Tree:\n",
            "Best Parameters: {'max_depth': 3, 'min_samples_leaf': 1, 'min_samples_split': 2}\n",
            "Accuracy: 1.0\n",
            "F1-Score: 1.0\n"
          ]
        }
      ],
      "source": [
        "# Parameter grid\n",
        "param_grid = {\n",
        "    'max_depth': [3, 5, 7, None],\n",
        "    'min_samples_split': [2, 5, 10],\n",
        "    'min_samples_leaf': [1, 2, 4]\n",
        "}\n",
        "\n",
        "# Grid Search\n",
        "grid_search = GridSearchCV(DecisionTreeClassifier(), param_grid, cv=5, scoring='accuracy')\n",
        "grid_search.fit(X_train, y_train)\n",
        "\n",
        "# Model terbaik\n",
        "best_dtree = grid_search.best_estimator_\n",
        "y_pred_tuned = best_dtree.predict(X_test)\n",
        "\n",
        "# Evaluasi setelah tuning\n",
        "print(\"\\nTuned Decision Tree:\")\n",
        "print(\"Best Parameters:\", grid_search.best_params_)\n",
        "print(\"Accuracy:\", accuracy_score(y_test, y_pred_tuned))\n",
        "print(\"F1-Score:\", f1_score(y_test, y_pred_tuned, average='weighted'))"
      ]
    },
    {
      "cell_type": "markdown",
      "metadata": {
        "id": "hE7pqlEPEYzI"
      },
      "source": [
        "## **d. Evaluasi Model Klasifikasi setelah Tuning (Optional)**"
      ]
    },
    {
      "cell_type": "markdown",
      "metadata": {
        "id": "feaPESoeN0zz"
      },
      "source": [
        "Berikut adalah rekomendasi tahapannya.\n",
        "1. Gunakan model dengan hyperparameter terbaik.\n",
        "2. Hitung ulang metrik evaluasi untuk melihat apakah ada peningkatan performa."
      ]
    },
    {
      "cell_type": "code",
      "execution_count": 24,
      "metadata": {
        "id": "HTXZRvEeNMb1"
      },
      "outputs": [
        {
          "name": "stdout",
          "output_type": "stream",
          "text": [
            "\n",
            "Evaluasi Model Setelah Tuning:\n",
            "Best Parameters: {'max_depth': 3, 'min_samples_leaf': 1, 'min_samples_split': 2}\n",
            "Accuracy: 1.0\n",
            "F1-Score: 1.0\n",
            "\n",
            "Confusion Matrix:\n",
            "[[488   0   0]\n",
            " [  0 350   0]\n",
            " [  0   0 215]]\n",
            "\n",
            "Classification Report:\n",
            "              precision    recall  f1-score   support\n",
            "\n",
            "           0       1.00      1.00      1.00       488\n",
            "           1       1.00      1.00      1.00       350\n",
            "           2       1.00      1.00      1.00       215\n",
            "\n",
            "    accuracy                           1.00      1053\n",
            "   macro avg       1.00      1.00      1.00      1053\n",
            "weighted avg       1.00      1.00      1.00      1053\n",
            "\n"
          ]
        },
        {
          "data": {
            "image/png": "[encoded data removed]",
            "text/plain": [
              "<Figure size 800x600 with 2 Axes>"
            ]
          },
          "metadata": {},
          "output_type": "display_data"
        }
      ],
      "source": [
        "# Gunakan model terbaik dari GridSearchCV\n",
        "best_model = grid_search.best_estimator_\n",
        "\n",
        "# Prediksi menggunakan data uji\n",
        "y_pred_tuned = best_model.predict(X_test)\n",
        "\n",
        "# Hitung metrik evaluasi\n",
        "accuracy_tuned = accuracy_score(y_test, y_pred_tuned)\n",
        "f1_tuned = f1_score(y_test, y_pred_tuned, average='weighted')\n",
        "\n",
        "# Confusion Matrix\n",
        "conf_matrix_tuned = confusion_matrix(y_test, y_pred_tuned)\n",
        "\n",
        "# Classification Report\n",
        "class_report_tuned = classification_report(y_test, y_pred_tuned)\n",
        "\n",
        "# Tampilkan hasil evaluasi\n",
        "print(\"\\nEvaluasi Model Setelah Tuning:\")\n",
        "print(\"Best Parameters:\", grid_search.best_params_)\n",
        "print(\"Accuracy:\", accuracy_tuned)\n",
        "print(\"F1-Score:\", f1_tuned)\n",
        "print(\"\\nConfusion Matrix:\")\n",
        "print(conf_matrix_tuned)\n",
        "print(\"\\nClassification Report:\")\n",
        "print(class_report_tuned)\n",
        "\n",
        "# Visualisasi Confusion Matrix\n",
        "plt.figure(figsize=(8, 6))\n",
        "sns.heatmap(conf_matrix_tuned, annot=True, fmt='d', cmap='Blues', \n",
        "            xticklabels=np.unique(y_test), yticklabels=np.unique(y_test))\n",
        "plt.title('Confusion Matrix - Tuned Decision Tree')\n",
        "plt.xlabel('Predicted')\n",
        "plt.ylabel('Actual')\n",
        "plt.show()"
      ]
    },
    {
      "cell_type": "markdown",
      "metadata": {
        "id": "ZRsOdm4uEgAW"
      },
      "source": [
        "## **e. Analisis Hasil Evaluasi Model Klasifikasi**"
      ]
    },
    {
      "cell_type": "markdown",
      "metadata": {
        "id": "Hm3BhSi6N4_l"
      },
      "source": [
        "**Perbandingan Performa:**\n",
        "\n",
        "1. **Logistic Regression**: Logistic Regression cocok untuk data linear tetapi mungkin kurang akurat jika hubungan antar fitur kompleks.\n",
        "2. **Decision Tree** Decision Tree menunjukkan performa lebih baik karena mampu menangkap hubungan non-linear.\n",
        "3. **Decision Tree dengan Tuning** meningkatkan akurasi dengan mengoptimalkan parameter seperti kedalaman pohon.\n",
        "\n",
        "**Potensi Masalah:**\n",
        "\n",
        "1. Class imbalance terlihat dari distribusi cluster\n",
        "2. Overfitting pada Decision Tree asli (akurasi training jauh lebih tinggi dari test)\n",
        "\n",
        "Rekomendasi:\n",
        "\n",
        "1. Lakukan handling class imbalance dengan SMOTE atau class weights\n",
        "2. Coba algoritma ensemble seperti Random Forest\n",
        "3. Kumpulkan lebih banyak data untuk cluster minoritas"
      ]
    }
  ],
  "metadata": {
    "colab": {
      "provenance": []
    },
    "kernelspec": {
      "display_name": "Python 3",
      "name": "python3"
    },
    "language_info": {
      "codemirror_mode": {
        "name": "ipython",
        "version": 3
      },
      "file_extension": ".py",
      "mimetype": "text/x-python",
      "name": "python",
      "nbconvert_exporter": "python",
      "pygments_lexer": "ipython3",
      "version": "3.13.1"
    }
  },
  "nbformat": 4,
  "nbformat_minor": 0
}
